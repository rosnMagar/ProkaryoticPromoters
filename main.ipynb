{
 "cells": [
  {
   "cell_type": "markdown",
   "id": "8fd17bc2",
   "metadata": {},
   "source": [
    "# Prokaryotic Promoters"
   ]
  },
  {
   "cell_type": "markdown",
   "id": "407876c5",
   "metadata": {
    "vscode": {
     "languageId": "markdown"
    }
   },
   "source": [
    "This working prototype that reads a single string, verifies that it is a valid DNA sequence, finds exact matches to common promoter motifs, and reports an overall match score for each proposed promoter."
   ]
  },
  {
   "cell_type": "markdown",
   "id": "c7d9362d",
   "metadata": {},
   "source": [
    "###  The DNA verification process\n",
    "\n",
    "DNA normally consists of 4 different nucleotieds **A, T, G, and C.** We can scan the string to check if we find any string other than these characters. Linear Scanning can perform this operation in **O(n)** time."
   ]
  },
  {
   "cell_type": "markdown",
   "id": "17b63646",
   "metadata": {},
   "source": [
    "### Promoter Matching Process\n",
    "\n",
    "We can locate promoters using an exact matching algorithm. This process is very straightforward however is not always accurate. Fuzzy matching process can locate multiple possible promoter regions. Fuzzy matching technique generates a list of possible promoter regions with their corresponding probability of being a promoter.\n",
    "\n",
    "##### Exact Matching\n",
    "\n",
    "For exact promoter matching, Two regions indicating a promoter found together are the  **TTGACA (-35) and the TATAAT (-10)** regions. Which means, we can simply scan for these two regions to locate the promoter start regions. \n",
    "\n",
    "We can keep track of how spread apart **TTGACA(-35) and TATAAT (-10)** are, making sure their **distance (d)** $\\le$ 21 and $\\ge$ 15\n",
    "\n",
    "To make things simple, for exact matching we will be looking for **TTGACA** and **TATAAT** or **TAXXXT** blocks.\n",
    "\n",
    "To calculate the overall confidence score:\n",
    "    \n",
    "- We can use the normal distribution formula constrained between the range [21,15] where $\\mu = 17$, and $\\sigma = 0.8$.\n",
    "- We calculate the (-35) or (-10) block probability using the corresponding hashtable (Dan's Research) for each block type we have. "
   ]
  },
  {
   "cell_type": "code",
   "execution_count": 10,
   "id": "99b367c5",
   "metadata": {},
   "outputs": [],
   "source": [
    "# Hashtable for -35 sequence\n",
    "tf_hashtable = {\n",
    "    \"A\" : [3,  10, 3, 58, 32, 54],\n",
    "    \"C\" : [9,  3, 14, 13, 52,  5],\n",
    "    \"G\" : [10, 5, 68, 10,  7, 17],\n",
    "    \"T\" : [78, 82,15, 20, 10, 24],\n",
    "}\n",
    "\n",
    "# Hashtable for -10 sequence\n",
    "t_hashtable = {\n",
    "    \"A\" : [3, 89, 26, 59, 49, 3],\n",
    "    \"C\" : [8, 3,  10, 12, 21, 5],\n",
    "    \"G\" : [7, 1,  12, 15, 11, 2],\n",
    "    \"T\" : [82, 7, 52, 14, 19, 89],\n",
    "}"
   ]
  },
  {
   "cell_type": "markdown",
   "id": "c922e615",
   "metadata": {},
   "source": [
    "### Exact matching algorithm with hash table\n",
    "\n",
    "If we consider a nucleotide $\\tau$ at position $n$ in a DNA sequence $\\Delta$ as the start of the -35 sequence\n",
    "\n",
    "Given an example DNA Sequence ...TAGACAC...\n",
    "\n",
    "Considering $\\tau=$ **T** with position $n$ then we can generate a scoring system like below using the `tf_hashtable`:\n",
    "| T | A | G | A | C | A | $\\mu$ |\n",
    "|---|---|---|---|---|---|-------|\n",
    "|78 | 10| 68| 20|52 | 54| $\\frac{47}{100}$   |\n",
    "\n",
    "where $\\mu$ is the score of the possible -35 sequence.\n"
   ]
  },
  {
   "cell_type": "markdown",
   "id": "5efd6eed",
   "metadata": {},
   "source": [
    "\n",
    "Once this step is done, we move forward i.e we go to $n + 1$ location where $\\tau=$ A where we get another score for the nucleotide subset:\n",
    "\n",
    "| A | G | A | C | A | C | $\\mu$ |\n",
    "|---|---|---|---|---|---|-------|\n",
    "| 10| 68| 20| 52| 54| 5 | $\\frac{-26}{100}$   |\n",
    "\n",
    "Ideal way of calculating $\\mu$ after the first subset is to subtract score at $n$ and add the score at $n + 1 + 5$ \n",
    "\n",
    "We store the list key=n value=[-35 sequence, score] ($\\Beta$) as a list. For the **-10** sequence we create a dictionary with [-10 sequence, n, score] ($\\Alpha$).\n"
   ]
  },
  {
   "cell_type": "code",
   "execution_count": null,
   "id": "cf96e3d5",
   "metadata": {},
   "outputs": [],
   "source": [
    "DNA_Sequence = \"ATGCGTACGTAGCTAGCTAGCTAGCTAGCTAGCTAGCTAGCTAGCTAGC\"\n"
   ]
  },
  {
   "cell_type": "code",
   "execution_count": 16,
   "id": "b37ac414",
   "metadata": {},
   "outputs": [],
   "source": [
    "# Beta\n",
    "tf_dict = {}\n",
    "\n",
    "# Alpha\n",
    "t_list = []\n",
    "\n",
    "# Final List\n",
    "\n",
    "flist = []\n",
    "\n",
    "# calculating -35 scores\n",
    "for n, T in enumerate(DNA_Sequence):\n",
    "    if n + 6 <= len(DNA_Sequence):\n",
    "        score = 0\n",
    "        for j in range(0, 6):\n",
    "            score += tf_hashtable[DNA_Sequence[n]][j]\n",
    "        mu = (score) / 600\n",
    "        tf_dict[n] = [DNA_Sequence[n:n + 6], mu]"
   ]
  },
  {
   "cell_type": "code",
   "execution_count": 9,
   "id": "3a4093cb",
   "metadata": {},
   "outputs": [
    {
     "data": {
      "text/plain": [
       "{0: ['ATGCGT', 0.26666666666666666],\n",
       " 1: ['TGCGTA', 0.38166666666666665],\n",
       " 2: ['GCGTAC', 0.195],\n",
       " 3: ['CGTACG', 0.16],\n",
       " 4: ['GTACGT', 0.195],\n",
       " 5: ['TACGTA', 0.38166666666666665],\n",
       " 6: ['ACGTAG', 0.26666666666666666],\n",
       " 7: ['CGTAGC', 0.16],\n",
       " 8: ['GTAGCT', 0.195],\n",
       " 9: ['TAGCTA', 0.38166666666666665],\n",
       " 10: ['AGCTAG', 0.26666666666666666],\n",
       " 11: ['GCTAGC', 0.195],\n",
       " 12: ['CTAGCT', 0.16],\n",
       " 13: ['TAGCTA', 0.38166666666666665],\n",
       " 14: ['AGCTAG', 0.26666666666666666],\n",
       " 15: ['GCTAGC', 0.195],\n",
       " 16: ['CTAGCT', 0.16],\n",
       " 17: ['TAGCTA', 0.38166666666666665],\n",
       " 18: ['AGCTAG', 0.26666666666666666],\n",
       " 19: ['GCTAGC', 0.195],\n",
       " 20: ['CTAGCT', 0.16],\n",
       " 21: ['TAGCTA', 0.38166666666666665],\n",
       " 22: ['AGCTAG', 0.26666666666666666],\n",
       " 23: ['GCTAGC', 0.195],\n",
       " 24: ['CTAGCT', 0.16],\n",
       " 25: ['TAGCTA', 0.38166666666666665],\n",
       " 26: ['AGCTAG', 0.26666666666666666],\n",
       " 27: ['GCTAGC', 0.195],\n",
       " 28: ['CTAGCT', 0.16],\n",
       " 29: ['TAGCTA', 0.38166666666666665],\n",
       " 30: ['AGCTAG', 0.26666666666666666],\n",
       " 31: ['GCTAGC', 0.195],\n",
       " 32: ['CTAGCT', 0.16],\n",
       " 33: ['TAGCTA', 0.38166666666666665],\n",
       " 34: ['AGCTAG', 0.26666666666666666],\n",
       " 35: ['GCTAGC', 0.195],\n",
       " 36: ['CTAGCT', 0.16],\n",
       " 37: ['TAGCTA', 0.38166666666666665],\n",
       " 38: ['AGCTAG', 0.26666666666666666],\n",
       " 39: ['GCTAGC', 0.195],\n",
       " 40: ['CTAGCT', 0.16],\n",
       " 41: ['TAGCTA', 0.38166666666666665],\n",
       " 42: ['AGCTAG', 0.26666666666666666],\n",
       " 43: ['GCTAGC', 0.195]}"
      ]
     },
     "execution_count": 9,
     "metadata": {},
     "output_type": "execute_result"
    }
   ],
   "source": [
    "tf_dict"
   ]
  },
  {
   "cell_type": "code",
   "execution_count": 11,
   "id": "b597ce39",
   "metadata": {},
   "outputs": [],
   "source": [
    "# calculating -10 scores\n",
    "for n, T in enumerate(DNA_Sequence):\n",
    "    if n + 6 <= len(DNA_Sequence):\n",
    "        score = 0\n",
    "        for j in range(0, 6):\n",
    "            score += t_hashtable[DNA_Sequence[n]][j]\n",
    "        mu = (score) / 600\n",
    "        t_list.append([DNA_Sequence[n:n + 6], n, mu])"
   ]
  },
  {
   "cell_type": "code",
   "execution_count": 12,
   "id": "69e87eef",
   "metadata": {},
   "outputs": [
    {
     "data": {
      "text/plain": [
       "[['ATGCGT', 0, 0.38166666666666665],\n",
       " ['TGCGTA', 1, 0.43833333333333335],\n",
       " ['GCGTAC', 2, 0.08],\n",
       " ['CGTACG', 3, 0.09833333333333333],\n",
       " ['GTACGT', 4, 0.08],\n",
       " ['TACGTA', 5, 0.43833333333333335],\n",
       " ['ACGTAG', 6, 0.38166666666666665],\n",
       " ['CGTAGC', 7, 0.09833333333333333],\n",
       " ['GTAGCT', 8, 0.08],\n",
       " ['TAGCTA', 9, 0.43833333333333335],\n",
       " ['AGCTAG', 10, 0.38166666666666665],\n",
       " ['GCTAGC', 11, 0.08],\n",
       " ['CTAGCT', 12, 0.09833333333333333],\n",
       " ['TAGCTA', 13, 0.43833333333333335],\n",
       " ['AGCTAG', 14, 0.38166666666666665],\n",
       " ['GCTAGC', 15, 0.08],\n",
       " ['CTAGCT', 16, 0.09833333333333333],\n",
       " ['TAGCTA', 17, 0.43833333333333335],\n",
       " ['AGCTAG', 18, 0.38166666666666665],\n",
       " ['GCTAGC', 19, 0.08],\n",
       " ['CTAGCT', 20, 0.09833333333333333],\n",
       " ['TAGCTA', 21, 0.43833333333333335],\n",
       " ['AGCTAG', 22, 0.38166666666666665],\n",
       " ['GCTAGC', 23, 0.08],\n",
       " ['CTAGCT', 24, 0.09833333333333333],\n",
       " ['TAGCTA', 25, 0.43833333333333335],\n",
       " ['AGCTAG', 26, 0.38166666666666665],\n",
       " ['GCTAGC', 27, 0.08],\n",
       " ['CTAGCT', 28, 0.09833333333333333],\n",
       " ['TAGCTA', 29, 0.43833333333333335],\n",
       " ['AGCTAG', 30, 0.38166666666666665],\n",
       " ['GCTAGC', 31, 0.08],\n",
       " ['CTAGCT', 32, 0.09833333333333333],\n",
       " ['TAGCTA', 33, 0.43833333333333335],\n",
       " ['AGCTAG', 34, 0.38166666666666665],\n",
       " ['GCTAGC', 35, 0.08],\n",
       " ['CTAGCT', 36, 0.09833333333333333],\n",
       " ['TAGCTA', 37, 0.43833333333333335],\n",
       " ['AGCTAG', 38, 0.38166666666666665],\n",
       " ['GCTAGC', 39, 0.08],\n",
       " ['CTAGCT', 40, 0.09833333333333333],\n",
       " ['TAGCTA', 41, 0.43833333333333335],\n",
       " ['AGCTAG', 42, 0.38166666666666665],\n",
       " ['GCTAGC', 43, 0.08]]"
      ]
     },
     "execution_count": 12,
     "metadata": {},
     "output_type": "execute_result"
    }
   ],
   "source": [
    "t_list"
   ]
  },
  {
   "cell_type": "markdown",
   "id": "1a8c2962",
   "metadata": {},
   "source": [
    "\n",
    "**-10 and -35 distance**\n",
    "\n",
    "Since the space between the promoter blocks have an effect in the overall probability. Once we get calculate $\\Alpha$ and $\\Beta$, we iterate through $\\Beta$ \n",
    "in the following manner\n",
    "\n",
    "for each element at index $i$ with value $\\alpha \\in \\Alpha$:\n",
    "    \n",
    "where key $\\gt \\beta[1] - 12$ and $\\lt \\beta[1] - 22$ if it exists in $\\Alpha$ \n",
    "\n",
    "if it does: we calculate final score as $S = \\frac{((score_\\alpha + score_\\beta) + std_{-}normal(i - \\Alpha[key]))}{3} $ \n",
    "\n",
    "append the resulting pair with the score and sort the result based on the final score\n",
    "\n",
    "\n"
   ]
  },
  {
   "cell_type": "code",
   "execution_count": 14,
   "id": "ffe2fc56",
   "metadata": {},
   "outputs": [],
   "source": [
    "E = 2.718281828459045\n",
    "PI = 3.141592653589793\n",
    "\n",
    "def std_normal(mu, x, sigma):\n",
    "    return 1/(sigma * (2 * PI)**0.5) * E**(-0.5 * ((x - mu)/sigma)**2)"
   ]
  },
  {
   "cell_type": "code",
   "execution_count": 19,
   "id": "7d2517b4",
   "metadata": {},
   "outputs": [],
   "source": [
    "# iterating through -10 sequence list\n",
    "\n",
    "for i, n in enumerate(t_list):\n",
    "    b_start = n[1] - 22\n",
    "    b_end = n[1] - 12\n",
    "    for k in range(b_start, b_end):\n",
    "        if k in tf_dict.keys():\n",
    "            final_score = ((n[2] + tf_dict[k][1]) + std_normal(17, n[1], 0.8)) / 3\n",
    "            print(final_score)\n",
    "            flist.append([n[0], tf_dict[k][0], n[1], k, final_score])\n",
    "            # output format -10, -35, -10 index, -35 index, final score\n"
   ]
  },
  {
   "cell_type": "code",
   "execution_count": 18,
   "id": "5991f754",
   "metadata": {},
   "outputs": [
    {
     "data": {
      "text/plain": [
       "[]"
      ]
     },
     "execution_count": 18,
     "metadata": {},
     "output_type": "execute_result"
    }
   ],
   "source": [
    "flist.sort(key=lambda x: x[4], reverse=True)\n",
    "flist"
   ]
  },
  {
   "cell_type": "markdown",
   "id": "0386cbba",
   "metadata": {},
   "source": [
    "\n",
    "##### Fuzzy Matching\n",
    "\n",
    "These are the conditions to keep in mind: \n",
    "- In the TATAAT region, TAXXXT are conserved over 80% of the time (X means less conserved)\n",
    "\n",
    "- In the TTGACA region of the first 3 (TTG) at least one is always conserved but 2 and most often 3 are usually conserved.\n",
    "\n",
    "- Both units tend to occcur about 17 basepairs away from eachother, but this can vary from as little as 15 to as high as 21 (however 95% of the time it is betwren 16 and 18, with more than half of that being 17)\n",
    "\n",
    "- The -35 region is further upstream from the -10 (-35 and -10 describe the base pair distance from the starting region)"
   ]
  },
  {
   "cell_type": "markdown",
   "id": "ac4b8e52",
   "metadata": {},
   "source": []
  },
  {
   "cell_type": "markdown",
   "id": "ca2ab867",
   "metadata": {},
   "source": []
  }
 ],
 "metadata": {
  "kernelspec": {
   "display_name": ".venv (3.11.13)",
   "language": "python",
   "name": "python3"
  },
  "language_info": {
   "codemirror_mode": {
    "name": "ipython",
    "version": 3
   },
   "file_extension": ".py",
   "mimetype": "text/x-python",
   "name": "python",
   "nbconvert_exporter": "python",
   "pygments_lexer": "ipython3",
   "version": "3.11.13"
  }
 },
 "nbformat": 4,
 "nbformat_minor": 5
}
